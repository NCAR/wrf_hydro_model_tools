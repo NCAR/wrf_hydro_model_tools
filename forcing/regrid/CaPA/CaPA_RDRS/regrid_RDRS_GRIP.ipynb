{
 "cells": [
  {
   "cell_type": "markdown",
   "metadata": {
    "toc": true
   },
   "source": [
    "<h1>Table of Contents<span class=\"tocSkip\"></span></h1>\n",
    "<div class=\"toc\"><ul class=\"toc-item\"></ul></div>"
   ]
  },
  {
   "cell_type": "markdown",
   "metadata": {},
   "source": [
    "Import required libraries"
   ]
  },
  {
   "cell_type": "code",
   "execution_count": null,
   "metadata": {},
   "outputs": [],
   "source": [
    "import pandas as pd\n",
    "import xarray as xr\n",
    "import xesmf as xe\n",
    "from matplotlib import pyplot as plt\n",
    "import cartopy.crs as ccrs\n",
    "import cartopy.feature as cfeature\n",
    "\n",
    "%matplotlib inline"
   ]
  },
  {
   "cell_type": "markdown",
   "metadata": {},
   "source": [
    "Open RDRS CaPA dataset"
   ]
  },
  {
   "cell_type": "code",
   "execution_count": null,
   "metadata": {},
   "outputs": [],
   "source": [
    "ds = xr.open_dataset('../../../RDRS_CaPA24hr_forcings_final.nc')"
   ]
  },
  {
   "cell_type": "markdown",
   "metadata": {},
   "source": [
    "Create new dataset from the relevant subset of variables and complete the necessary unit conversions"
   ]
  },
  {
   "cell_type": "code",
   "execution_count": null,
   "metadata": {},
   "outputs": [],
   "source": [
    "ds_new = ds[['RDRS_PR0_SFC','RDRS_UUC_40m','RDRS_VVC_40m',\n",
    "             'RDRS_HU_40m','RDRS_TT_40m','RDRS_FB_SFC',\n",
    "             'RDRS_FI_SFC','RDRS_P0_SFC']]\n",
    "\n",
    "ds_new.rename({'RDRS_PR0_SFC':'RAINRATE','RDRS_UUC_40m':'U2D',\n",
    "              'RDRS_VVC_40m':'V2D','RDRS_HU_40m':'Q2D',\n",
    "              'RDRS_TT_40m':'T2D','RDRS_FB_SFC':'SWDOWN',\n",
    "              'RDRS_FI_SFC':'LWDOWN','RDRS_P0_SFC':'PSFC'},inplace=True)\n",
    "\n",
    "ds_new['RAINRATE'] = ds_new.RAINRATE*1000.0 / (60.0*60.0)    # convert from m/hr to kg/m^2/s\n",
    "ds_new['U2D'] = ds_new['U2D']*0.514444                       # convert from knots to m/s\n",
    "ds_new['V2D'] = ds_new['V2D']*0.514444                       # convert from knots to m/s\n",
    "ds_new['T2D'] = ds_new['T2D'] + 273.16                       # convert from degrees C to K\n",
    "ds_new['PSFC'] = ds_new['PSFC']*100.0                        # convert from mb to Pa"
   ]
  },
  {
   "cell_type": "markdown",
   "metadata": {},
   "source": [
    "Plot the GRIP-E forcing domain w/ lakes shown (note that the actual forcing data is masked to the outline of the basin and therefore is much smaller)"
   ]
  },
  {
   "cell_type": "code",
   "execution_count": null,
   "metadata": {},
   "outputs": [],
   "source": [
    "rotated_pole = ccrs.RotatedPole(pole_latitude=ds.rotated_pole.grid_north_pole_latitude, \\\n",
    "                                pole_longitude=ds.rotated_pole.grid_north_pole_longitude)\n",
    "\n",
    "x = [ds.rlon.min(), ds.rlon.min(), ds.rlon.max(), ds.rlon.max(), ds.rlon.min()]\n",
    "y = [ds.rlat.min(), ds.rlat.max(), ds.rlat.max(), ds.rlat.min(), ds.rlat.min()]\n",
    "\n",
    "fig = plt.figure(figsize=(15,15))\n",
    "\n",
    "ax = fig.add_subplot(1, 1, 1, projection=rotated_pole)\n",
    "ax.set_extent([ds.rlon.min(), ds.rlon.max(), ds.rlat.min(), ds.rlat.max()], crs=rotated_pole)\n",
    "\n",
    "ax.add_feature(cfeature.NaturalEarthFeature('physical','lakes',scale='10m'))"
   ]
  },
  {
   "cell_type": "markdown",
   "metadata": {},
   "source": [
    "Plot the GRIP-E forcing data grid (note that the actual forcing data is masked to the outline of the basin and therefore is much smaller)"
   ]
  },
  {
   "cell_type": "code",
   "execution_count": null,
   "metadata": {},
   "outputs": [],
   "source": [
    "rotated_pole = ccrs.RotatedPole(pole_latitude=ds.rotated_pole.grid_north_pole_latitude, \\\n",
    "                                pole_longitude=ds.rotated_pole.grid_north_pole_longitude)\n",
    "\n",
    "x = [ds.rlon.min(), ds.rlon.min(), ds.rlon.max(), ds.rlon.max(), ds.rlon.min()]\n",
    "y = [ds.rlat.min(), ds.rlat.max(), ds.rlat.max(), ds.rlat.min(), ds.rlat.min()]\n",
    "\n",
    "fig = plt.figure(figsize=(15,15))\n",
    "\n",
    "ax = fig.add_subplot(2, 1, 1, projection=rotated_pole)\n",
    "ax.stock_img()\n",
    "ax.coastlines()\n",
    "ax.plot(x, y, marker='o', transform=rotated_pole, markersize=3)\n",
    "ax.fill(x, y, color='coral', transform=rotated_pole, alpha=0.4)\n",
    "ax.gridlines()\n",
    "\n",
    "ax = fig.add_subplot(2, 1, 2, projection=ccrs.PlateCarree())\n",
    "ax.stock_img()\n",
    "ax.coastlines()\n",
    "ax.plot(x, y, marker='o', transform=rotated_pole, markersize=3)\n",
    "ax.fill(x, y, transform=rotated_pole, color='coral', alpha=0.4)\n",
    "ax.gridlines()"
   ]
  },
  {
   "cell_type": "markdown",
   "metadata": {},
   "source": [
    "Open geogrid file for WRF-Hydro domain, rename dimensions, and drop time dimension"
   ]
  },
  {
   "cell_type": "code",
   "execution_count": null,
   "metadata": {},
   "outputs": [],
   "source": [
    "ds_out = xr.open_dataset('geo_em.d01.nc')\n",
    "ds_out.rename({'XLONG_M': 'lon', 'XLAT_M': 'lat'}, inplace=True)\n",
    "ds_out['lat'] = ds_out['lat'].sel(Time=0, drop=True)\n",
    "ds_out['lon'] = ds_out['lon'].sel(Time=0, drop=True)"
   ]
  },
  {
   "cell_type": "markdown",
   "metadata": {},
   "source": [
    "Create regridder object"
   ]
  },
  {
   "cell_type": "code",
   "execution_count": null,
   "metadata": {},
   "outputs": [],
   "source": [
    "regridder = xe.Regridder(ds_new, ds_out, 'bilinear', reuse_weights=False)"
   ]
  },
  {
   "cell_type": "markdown",
   "metadata": {},
   "source": [
    "Iterate over data variables and regrid each to the WRF-Hydro domain"
   ]
  },
  {
   "cell_type": "code",
   "execution_count": null,
   "metadata": {},
   "outputs": [],
   "source": [
    "for var in ds_new.data_vars:\n",
    "    ds_new[var] = regridder(ds_new[var])"
   ]
  },
  {
   "cell_type": "markdown",
   "metadata": {},
   "source": [
    "Drop unnecessary dimensions and attributes"
   ]
  },
  {
   "cell_type": "code",
   "execution_count": null,
   "metadata": {},
   "outputs": [],
   "source": [
    "ds_new = ds_new.drop(('rlat','rlon','lat','lon'))\n",
    "ds_new.attrs = []\n",
    "ds_new"
   ]
  },
  {
   "cell_type": "markdown",
   "metadata": {},
   "source": [
    "Open spatial metadata file for domain"
   ]
  },
  {
   "cell_type": "code",
   "execution_count": null,
   "metadata": {},
   "outputs": [],
   "source": [
    "ds_sm = xr.open_dataset('GEOGRID_LDASOUT_Spatial_Metadata.nc')"
   ]
  },
  {
   "cell_type": "markdown",
   "metadata": {},
   "source": [
    "Update metadata"
   ]
  },
  {
   "cell_type": "code",
   "execution_count": null,
   "metadata": {},
   "outputs": [],
   "source": [
    "# Add x and y coordinates\n",
    "ds_new.coords['west_east'] = ds_sm.x.values\n",
    "ds_new.coords['south_north'] = ds_sm.y.values\n",
    "ds_new = ds_new.rename({'west_east': 'x', 'south_north': 'y'})\n",
    "\n",
    "# Add units\n",
    "ds_new.RAINRATE.attrs['units'] = 'mm/s'\n",
    "ds_new.U2D.attrs['units'] = 'm/s'\n",
    "ds_new.V2D.attrs['units'] = 'm/s'\n",
    "ds_new.Q2D.attrs['units'] = 'kg/kg'\n",
    "ds_new.T2D.attrs['units'] = 'K'\n",
    "ds_new.LWDOWN.attrs['units'] = 'W/m^2'\n",
    "ds_new.SWDOWN.attrs['units'] = 'W/m^2'\n",
    "ds_new.PSFC.attrs['units'] = 'Pa'\n",
    "\n",
    "# Add ESRI projection string\n",
    "for var in ds_new.data_vars:\n",
    "    ds_new[var].attrs['esri_pe_string'] = ds_sm.crs.attrs['esri_pe_string']"
   ]
  },
  {
   "cell_type": "markdown",
   "metadata": {},
   "source": [
    "Write to files"
   ]
  },
  {
   "cell_type": "code",
   "execution_count": null,
   "metadata": {},
   "outputs": [],
   "source": [
    "dates = pd.to_datetime(ds_new.time.values)\n",
    "for i in range(dates.size):\n",
    "    ds_new.isel(time=[i]).to_netcdf(dates[i].strftime('%Y%m%d%H')+'00.LDASIN_DOMAIN1')"
   ]
  },
  {
   "cell_type": "code",
   "execution_count": null,
   "metadata": {},
   "outputs": [],
   "source": []
  }
 ],
 "metadata": {
  "kernelspec": {
   "display_name": "Python 3",
   "language": "python",
   "name": "python3"
  },
  "language_info": {
   "codemirror_mode": {
    "name": "ipython",
    "version": 3
   },
   "file_extension": ".py",
   "mimetype": "text/x-python",
   "name": "python",
   "nbconvert_exporter": "python",
   "pygments_lexer": "ipython3",
   "version": "3.6.8"
  },
  "toc": {
   "base_numbering": 1,
   "nav_menu": {},
   "number_sections": true,
   "sideBar": true,
   "skip_h1_title": true,
   "title_cell": "Table of Contents",
   "title_sidebar": "Contents",
   "toc_cell": true,
   "toc_position": {},
   "toc_section_display": true,
   "toc_window_display": false
  }
 },
 "nbformat": 4,
 "nbformat_minor": 2
}
